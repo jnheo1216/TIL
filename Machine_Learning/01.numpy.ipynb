{
 "cells": [
  {
   "cell_type": "code",
   "execution_count": 1,
   "metadata": {},
   "outputs": [
    {
     "name": "stdout",
     "output_type": "stream",
     "text": [
      "1\n",
      "2\n",
      "3\n",
      "[1, 2, 3]\n"
     ]
    }
   ],
   "source": [
    "a=[1,2,3]\n",
    "for tmp in a:\n",
    "    print(tmp)\n",
    "print (a)"
   ]
  },
  {
   "cell_type": "code",
   "execution_count": 2,
   "metadata": {},
   "outputs": [],
   "source": [
    "# a : 위쪽에 셀 생성\n",
    "# b : 아래에 셀 생성\n",
    "# dd : 셀삭제\n",
    "# ctrl + enter : 동작\n",
    "\n",
    "# Numpy?\n",
    "# 벡터와 매트릭스 연산에 특화\n",
    "# pandas 와 Matplotlib의 기반이 되는 module\n",
    "\n",
    "# ndarray 특징\n",
    "# list와 유사\n",
    "# 하지만 같은 데이터타입만 들어갈수있다\n",
    "# list보다 빠르고 메모리 효율이 좋다"
   ]
  },
  {
   "cell_type": "code",
   "execution_count": 12,
   "metadata": {},
   "outputs": [
    {
     "name": "stdout",
     "output_type": "stream",
     "text": [
      "1.19.1\n",
      "[1, 2, 3, 4, 5]\n",
      "<class 'list'>\n",
      "[1 2 3 4 5]\n",
      "<class 'numpy.ndarray'>\n",
      "int32\n",
      "[[1 2 3]\n",
      " [4 5 6]]\n"
     ]
    }
   ],
   "source": [
    "import numpy as np\n",
    "print(numpy.__version__)\n",
    "\n",
    "# 파이썬의 리스트\n",
    "a=[1,2,3,4,5]\n",
    "print(a)\n",
    "print(type(a))\n",
    "\n",
    "# Numpy의 arr\n",
    "arr = np.array([1,2,3,4,5])\n",
    "print(arr)\n",
    "print(type(arr))\n",
    "print(arr.dtype)\n",
    "\n",
    "# 다차원 arr\n",
    "b=[[1,2,3],\n",
    "   [4,5,6]]\n",
    "arr=np.array(b)\n",
    "print(arr)"
   ]
  },
  {
   "cell_type": "code",
   "execution_count": 19,
   "metadata": {},
   "outputs": [
    {
     "name": "stdout",
     "output_type": "stream",
     "text": [
      "1.19.1\n",
      "[[1. 2. 3.]\n",
      " [4. 5. 6.]]\n",
      "2\n",
      "(2, 3)\n",
      "[[ 1.  2.  3.]\n",
      " [ 4.  5.  6.]\n",
      " [ 7.  8.  9.]\n",
      " [10. 11. 12.]]\n",
      "2\n",
      "(4, 3)\n",
      "(2, 2, 3)\n"
     ]
    }
   ],
   "source": [
    "import numpy as np\n",
    "print(numpy.__version__)\n",
    "\n",
    "b=[[1,2,3],\n",
    "   [4,5,6]]\n",
    "arr=np.array(b, dtype=np.float64)\n",
    "print(arr)\n",
    "print(arr.ndim)  # 차원의 개수\n",
    "print(arr.shape)  # 차원의 개수와 각 차원의 요소를 tuple로 표현\n",
    "\n",
    "a=[[1,2,3],[4,5,6],[7,8,9],[10,11,12]]\n",
    "arr=np.array(a, dtype=np.float64)\n",
    "print(arr)\n",
    "print(arr.ndim)  # 차원의 개수\n",
    "print(arr.shape)  # 차원의 개수와 각 차원의 요소를 tuple로 표현\n",
    "\n",
    "# 3차원배열\n",
    "a=[[[1,2,3],[4,5,6]],[[7,8,9],[10,11,12]]]\n",
    "arr=np.array(a, dtype=np.float64)\n",
    "print(arr.shape)"
   ]
  },
  {
   "cell_type": "code",
   "execution_count": 26,
   "metadata": {
    "scrolled": true
   },
   "outputs": [
    {
     "name": "stdout",
     "output_type": "stream",
     "text": [
      "1.19.1\n",
      "[[ 1.  2.  3.]\n",
      " [ 4.  5.  6.]\n",
      " [ 7.  8.  9.]\n",
      " [10. 11. 12.]]\n",
      "12\n",
      "4\n",
      "(4, 3)\n",
      "[[ 1.  2.  3.  4.  5.  6.]\n",
      " [ 7.  8.  9. 10. 11. 12.]]\n",
      "[[[ 1.  2.  3.]\n",
      "  [ 4.  5.  6.]]\n",
      "\n",
      " [[ 7.  8.  9.]\n",
      "  [10. 11. 12.]]]\n",
      "[[[ 1.  2.  3.]\n",
      "  [ 4.  5.  6.]]\n",
      "\n",
      " [[ 7.  8.  9.]\n",
      "  [10. 11. 12.]]]\n",
      "int32\n"
     ]
    }
   ],
   "source": [
    "import numpy as np\n",
    "print(numpy.__version__)\n",
    "\n",
    "b=[[1,2,3],\n",
    "   [4,5,6],\n",
    "   [7,8,9],\n",
    "   [10,11,12]]\n",
    "arr=np.array(b, dtype=np.float64)\n",
    "print(arr)\n",
    "\n",
    "# array의 크기를 알아보아요\n",
    "print(arr.size) # 12\n",
    "print(len(arr)) # 첫번째차원의 요소개수\n",
    "\n",
    "print(arr.shape) # (4,3)\n",
    "arr.shape = (2,6)\n",
    "print(arr)\n",
    "arr.shape = (2,2,3)\n",
    "print(arr)\n",
    "# 이건 잘 안씀 (직접바꾸는 방식)\n",
    "# 보통 reshape()사용\n",
    "\n",
    "# 데이터 타입을 바꾸고 싶을때?\n",
    "result = arr.astype(np.int32)\n",
    "print(arr)\n",
    "print(result.dtype)"
   ]
  },
  {
   "cell_type": "code",
   "execution_count": 32,
   "metadata": {},
   "outputs": [
    {
     "name": "stdout",
     "output_type": "stream",
     "text": [
      "[[0. 0. 0. 0.]\n",
      " [0. 0. 0. 0.]\n",
      " [0. 0. 0. 0.]]\n",
      "[[1. 1. 1. 1. 1.]\n",
      " [1. 1. 1. 1. 1.]]\n",
      "[[7. 7. 7. 7. 7.]\n",
      " [7. 7. 7. 7. 7.]\n",
      " [7. 7. 7. 7. 7.]]\n",
      "[[0. 0. 0.]\n",
      " [0. 0. 0.]\n",
      " [0. 0. 0.]]\n"
     ]
    }
   ],
   "source": [
    "# 0으로 채운 np어레이\n",
    "arr = np.zeros((3,4)) # shape명시가 필요하다 # dtype은 float64가 기본\n",
    "print(arr)\n",
    "\n",
    "# 1로 채운 np어레이\n",
    "arr = np.ones((2,5))\n",
    "print(arr)\n",
    "\n",
    "# n으로 채운 어레이\n",
    "arr = np.full((3,5), 7, dtype=np.float64)\n",
    "print(arr)\n",
    "\n",
    "# 초기값이 없어 # 공간만 만듬\n",
    "arr = np.empty((3,3))\n",
    "\n",
    "#############################################\n",
    "\n",
    "result = np.zeros_like(arr)\n",
    "print(result)"
   ]
  },
  {
   "cell_type": "code",
   "execution_count": 33,
   "metadata": {},
   "outputs": [
    {
     "name": "stdout",
     "output_type": "stream",
     "text": [
      "[1 2 3 4 5 6 7 8 9]\n"
     ]
    }
   ],
   "source": [
    "# 어레이를 만드는 다른 방법\n",
    "\n",
    "# arange\n",
    "# 파이썬의 range와 유사함\n",
    "arr = np.arange(1, 10, 1)\n",
    "print(arr)\n",
    "\n"
   ]
  },
  {
   "cell_type": "code",
   "execution_count": 3,
   "metadata": {},
   "outputs": [
    {
     "name": "stdout",
     "output_type": "stream",
     "text": [
      "[  1.   5.   9.  13.  17.  21.  25.  29.  33.  37.  41.  45.  49.  53.\n",
      "  57.  61.  65.  69.  73.  77.  81.  85.  89.  93.  97. 101. 105. 109.\n",
      " 113. 117. 121.]\n"
     ]
    },
    {
     "data": {
      "image/png": "[encoded data removed]",
      "text/plain": [
       "<Figure size 432x288 with 1 Axes>"
      ]
     },
     "metadata": {
      "needs_background": "light"
     },
     "output_type": "display_data"
    }
   ],
   "source": [
    "# 어레이를 만드는 다른 방법\n",
    "\n",
    "# linspace\n",
    "# 기능을 확인하기위해 그래프로 데이터를 그려보자\n",
    "# matplotlib module, seaborn\n",
    "\n",
    "import numpy as np\n",
    "import matplotlib.pyplot as plt\n",
    "\n",
    "arr = np.linspace(1,121,31)\n",
    "print(arr)\n",
    "plt.plot(arr, \"*\")\n",
    "plt.show()"
   ]
  },
  {
   "cell_type": "code",
   "execution_count": 12,
   "metadata": {},
   "outputs": [
    {
     "name": "stdout",
     "output_type": "stream",
     "text": [
      "[49.24541664 50.17795676 51.72423891 ... 52.65049234 50.53822115\n",
      " 46.82359631]\n"
     ]
    },
    {
     "data": {
      "image/png": "[encoded data removed]",
      "text/plain": [
       "<Figure size 432x288 with 1 Axes>"
      ]
     },
     "metadata": {
      "needs_background": "light"
     },
     "output_type": "display_data"
    },
    {
     "data": {
      "image/png": "[encoded data removed]",
      "text/plain": [
       "<Figure size 432x288 with 1 Axes>"
      ]
     },
     "metadata": {
      "needs_background": "light"
     },
     "output_type": "display_data"
    }
   ],
   "source": [
    "# 랜덤값으로 어레이 생성하기\n",
    "# 5가지 방법\n",
    "\n",
    "# 1. np.random.normal() : 정규분포 확률밀도함수에서 \n",
    "#                         실수 표본을 추출해서 ndarray 생성\n",
    "mean =50\n",
    "std = 2\n",
    "arr = np.random.normal(mean,std,(10000,))\n",
    "print(arr)\n",
    "plt.hist(arr, bins=100)\n",
    "plt.show()\n",
    "\n",
    "# 2. np.random.rand() 0-1범위에서 무작위로 추출\n",
    "arr = np.random.rand(100000)   # 균등분포\n",
    "\n",
    "# 3. np.random.randn() 실수추출 # 표준정규분포에서 난수 추출\n",
    "arr = np.random.randn(100000) \n",
    "\n",
    "# 4. np.random.randint(low, high, shape) # 균등분포에서 정수 추출\n",
    "arr = np.random.randint(-100, 100, (100000,))\n",
    "plt.hist(arr, bins=100)\n",
    "plt.show()\n",
    "\n",
    "# 5. np.random.random(shape)\n",
    "arr = np.random.random((10000,))"
   ]
  },
  {
   "cell_type": "code",
   "execution_count": 12,
   "metadata": {},
   "outputs": [
    {
     "name": "stdout",
     "output_type": "stream",
     "text": [
      "[-83  60 -19 -59 -10 -88 -70  45  44  28]\n",
      "[0 1 2 3 4 5 6 7 8 9]\n",
      "[9 1 6 3 2 8 7 4 0 5]\n",
      "[3 3 2 2 3 0 3 1 3 3]\n"
     ]
    }
   ],
   "source": [
    "# numpy가 제공해주는 랜덤 관련 함수\n",
    "import numpy as np\n",
    "import matplotlib.pyplot as plt\n",
    "\n",
    "# 1. 난수 재현\n",
    "# 랜덤값도 특정 알고리즘의 결과이므로 시드값이 같으면 같은 랜덤값 나옴\n",
    "\n",
    "# np.random.seed(10)\n",
    "arr = np.random.randint(-100, 100, (10,))\n",
    "print(arr)\n",
    "\n",
    "# 2. ndarray의 순서를 랜덤하게 바꾸려면\n",
    "arr = np.arange(10)\n",
    "print(arr)\n",
    "np.random.shuffle(arr)\n",
    "print(arr)\n",
    "\n",
    "# 3. ndarray안에서 일부를 무작위로 선택하는 기능 sampling\n",
    "# np.random.choice(arr, size, replace, p)\n",
    "arr = np.random.choice(5, 10, replace=True)\n",
    "print(arr)\n"
   ]
  },
  {
   "cell_type": "code",
   "execution_count": 16,
   "metadata": {},
   "outputs": [
    {
     "name": "stdout",
     "output_type": "stream",
     "text": [
      "[ 0  1  2  3  4  5  6  7  8  9 10 11]\n",
      "[[ 0  1  2]\n",
      " [ 3  4  5]\n",
      " [ 6  7  8]\n",
      " [ 9 10 11]]\n",
      "[100   1   2   3   4   5   6   7   8   9  10  11]\n",
      "[[100   1   2]\n",
      " [  3   4   5]\n",
      " [  6   7   8]\n",
      " [  9  10  11]]\n",
      "[[100   1   2   3   4   5]\n",
      " [  6   7   8   9  10  11]]\n"
     ]
    }
   ],
   "source": [
    "# 어레이는 shape를 가지고있음\n",
    "# reshape()\n",
    "import numpy as np\n",
    "import matplotlib.pyplot as plt\n",
    "\n",
    "arr = np.arange(12)\n",
    "print(arr)\n",
    "\n",
    "arr1 = arr.reshape(4,3) # 새로운 어레이를 만드는게 아니라 View를 생성\n",
    "print(arr1)\n",
    "\n",
    "arr[0] = 100\n",
    "print(arr)\n",
    "print(arr1)\n",
    "\n",
    "# view가 아니라 진짜 shape를 바꾼 ndarray를 만들기\n",
    "arr1 = arr.reshape(2,6).copy()\n",
    "print(arr1)\n",
    "\n",
    "# ravel() : 어레이의 모든 요소가 포함된 1차원 벡터를 리턴 # 얘도 View"
   ]
  },
  {
   "cell_type": "code",
   "execution_count": 5,
   "metadata": {},
   "outputs": [
    {
     "name": "stdout",
     "output_type": "stream",
     "text": [
      "[[9 4 0 1]\n",
      " [9 0 1 8]\n",
      " [9 0 8 6]]\n",
      "[[9 4 0 1 9 0]\n",
      " [1 8 9 0 8 6]]\n",
      "[[9 4 0 1 9]\n",
      " [0 1 8 9 0]\n",
      " [8 6 0 0 0]]\n",
      "[[9 4]\n",
      " [0 1]]\n"
     ]
    }
   ],
   "source": [
    "# shape 함수 더 알아보기\n",
    "# reshape() # ravel()\n",
    "\n",
    "# resize\n",
    "import numpy as np\n",
    "import matplotlib.pyplot as plt\n",
    "\n",
    "np.random.seed(10)\n",
    "\n",
    "arr = np.random.randint(0,10,(3,4))\n",
    "print(arr)\n",
    "\n",
    "arr.resize(2,6)\n",
    "print(arr)\n",
    "\n",
    "# view가 생성되지 않음. 원본이 원하는 shape로 바뀜\n",
    "\n",
    "arr.resize(3,5) # reshape는 이거 안됨 # 하지만 resize는 이래도 됨\n",
    "print(arr)\n",
    "\n",
    "arr.resize(2,2) # 늘때는 0으로 채우고 줄을때는 버림\n",
    "print(arr)"
   ]
  },
  {
   "cell_type": "code",
   "execution_count": 14,
   "metadata": {},
   "outputs": [
    {
     "name": "stdout",
     "output_type": "stream",
     "text": [
      "[10 11 12 13 14 15 16 17 18 19]\n",
      "인덱스 : 0, 데이터 : 10\n",
      "인덱스 : 1, 데이터 : 11\n",
      "인덱스 : 2, 데이터 : 12\n",
      "인덱스 : 3, 데이터 : 13\n",
      "인덱스 : 4, 데이터 : 14\n",
      "인덱스 : 5, 데이터 : 15\n",
      "인덱스 : 6, 데이터 : 16\n",
      "인덱스 : 7, 데이터 : 17\n",
      "인덱스 : 8, 데이터 : 18\n",
      "인덱스 : 9, 데이터 : 19\n",
      "13\n",
      "[11 12 13]\n",
      "[10 11 12 13 14 15 16 17 18]\n",
      "[11 13 15 17]\n",
      "[[ 1  2  3  4]\n",
      " [ 5  6  7  8]\n",
      " [ 9 10 11 12]\n",
      " [13 14 15 16]]\n",
      "7\n",
      "[ 9 10 11 12]\n",
      "[[ 5  6  7  8]\n",
      " [ 9 10 11 12]]\n",
      "[[ 5  6]\n",
      " [ 9 10]]\n"
     ]
    }
   ],
   "source": [
    "## indexing & slicing\n",
    "\n",
    "import numpy as np\n",
    "import matplotlib.pyplot as plt\n",
    "\n",
    "arr = np.arange(10,20,1)\n",
    "print(arr)\n",
    "\n",
    "# 요소별 출력 - 인덱스번호까지\n",
    "for (idx,tmp) in enumerate(arr):\n",
    "    print('인덱스 : {}, 데이터 : {}'.format(idx,tmp))\n",
    "\n",
    "print(arr[3])  # 13\n",
    "print(arr[1:4])  # [11 12 13]\n",
    "print(arr[:-1])  # [10 11 12 13 14 15 16 17 18]\n",
    "print(arr[1:-1:2])  # [11 13 15 17]\n",
    "\n",
    "# 2차원\n",
    "arr = np.arange(1,17,1).reshape(4,4).copy()\n",
    "print(arr)\n",
    "\n",
    "print(arr[1,2])  # 7\n",
    "print(arr[2,:])  # [9 10 11 12]\n",
    "print(arr[1:3,:])  # [5 6 7 8]\n",
    "                   # [9 10 11 12]\n",
    "print(arr[1:3,:2])  # [5 6]\n",
    "                    #[9 10]\n"
   ]
  },
  {
   "cell_type": "code",
   "execution_count": 32,
   "metadata": {},
   "outputs": [
    {
     "name": "stdout",
     "output_type": "stream",
     "text": [
      "[5 8 9 5 0]\n",
      "[1 0 1 1 0]\n",
      "[False  True False False  True]\n",
      "[8 0]\n",
      " \n",
      "[[ 0  1  2  3]\n",
      " [ 4  5  6  7]\n",
      " [ 8  9 10 11]]\n",
      "10\n",
      "[6]\n",
      "[[5]]\n",
      "[ 2 10]\n",
      "[[ 2]\n",
      " [10]]\n",
      "[ 1 11]\n",
      "[[ 1  3]\n",
      " [ 9 11]]\n",
      "[[ 1  3]\n",
      " [ 9 11]]\n"
     ]
    }
   ],
   "source": [
    "## Boolean indexing & Fancy indexing\n",
    "# true false로 구성된 boolean mask를 이용하여 지정하는 방식\n",
    "\n",
    "import numpy as np\n",
    "import matplotlib.pyplot as plt\n",
    "\n",
    "# Boolean indexing\n",
    "np.random.seed(1)\n",
    "arr = np.random.randint(0,10,(5,))\n",
    "print(arr)\n",
    "print(arr%2)\n",
    "print(arr%2==0)  # => boolean mask\n",
    "print(arr[arr%2==0])\n",
    "\n",
    "print(' ')\n",
    "# Fancy indexing\n",
    "arr = np.arange(0,12,1).reshape(3,4).copy()\n",
    "print(arr)\n",
    "print(arr[2,2])  # indexing : 10\n",
    "print(arr[1:2,2])  # slicing : [6]\n",
    "print(arr[1:2,1:2])  # slicing : [[5]]\n",
    "\n",
    "print(arr[[0,2],2])  # [2 10]\n",
    "print(arr[[0,2],2:3])  # [[2]\n",
    "                       # [10]]\n",
    "print(arr[[0,2],[1,3]])  # [1 11]\n",
    "# 행과 열에 동시에 fancy indexing이 적용되지 않음\n",
    "\n",
    "#해결하기1\n",
    "print(arr[[0,2]][:,[1,3]])\n",
    "#해결하기2\n",
    "print(arr[np.ix_([0,2],[1,3])])"
   ]
  },
  {
   "cell_type": "code",
   "execution_count": 37,
   "metadata": {},
   "outputs": [
    {
     "name": "stdout",
     "output_type": "stream",
     "text": [
      "[[1 2 3]\n",
      " [4 5 6]]\n",
      "[[ 7  8  9]\n",
      " [10 11 12]]\n",
      "[[ 8 10 12]\n",
      " [14 16 18]]\n",
      "[[4 5 6]\n",
      " [7 8 9]]\n",
      "[[2 4 6]\n",
      " [5 7 9]]\n",
      "[[22 28]\n",
      " [49 64]]\n"
     ]
    }
   ],
   "source": [
    "# ndarray의 사칙연산과 행렬곱\n",
    "\n",
    "arr1 = np.array([[1,2,3],[4,5,6]])\n",
    "arr2 = np.array([[7,8,9],[10,11,12]])\n",
    "arr3 = np.array([1,2,3])\n",
    "arr4 = np.array([[1,2],[3,4],[5,6]])\n",
    "\n",
    "print(arr1)\n",
    "print(arr2)\n",
    "print(arr1 + arr2)\n",
    "print(arr1 + 3) # shape이 안맞는 경우, ndarray가 broadcasting을 수행\n",
    "print(arr1 + arr3)\n",
    "\n",
    "# 행렬곱\n",
    "print(np.dot(arr1,arr4))"
   ]
  },
  {
   "cell_type": "code",
   "execution_count": 40,
   "metadata": {},
   "outputs": [
    {
     "name": "stdout",
     "output_type": "stream",
     "text": [
      "[[1 4]\n",
      " [2 5]\n",
      " [3 6]]\n",
      "[[1 4]\n",
      " [2 5]\n",
      " [3 6]]\n",
      "[[100   4]\n",
      " [  2   5]\n",
      " [  3   6]]\n"
     ]
    }
   ],
   "source": [
    "## Transpose\n",
    "# 전치행렬\n",
    "\n",
    "import numpy as np\n",
    "\n",
    "\n",
    "arr = np.array([[1,2,3],[4,5,6]])\n",
    "print(arr.T)  # 전치행렬출력\n",
    "t_array = arr.T\n",
    "print(t_array)\n",
    "\n",
    "arr[0,0] = 100\n",
    "print(t_array)  # 원본 바뀌면 얘도 바뀌는걸 볼 수 있음 # view니까\n",
    "\n",
    "\n"
   ]
  },
  {
   "cell_type": "code",
   "execution_count": 59,
   "metadata": {},
   "outputs": [
    {
     "name": "stdout",
     "output_type": "stream",
     "text": [
      "[1 2 3 4 5]\n",
      "1 2 3 4 5  \n",
      "1 2 3 4 5  \n",
      "1 2 3 4 5 6  \n",
      "1 2 3 4 5 6 "
     ]
    }
   ],
   "source": [
    "## iterator\n",
    "# 순환자\n",
    "import numpy as np\n",
    "\n",
    "arr = np.array([1,2,3,4,5])\n",
    "print(arr)\n",
    "\n",
    "for tmp in arr:\n",
    "    print(tmp, end=' ')\n",
    "print(' ')\n",
    "# 이걸 itertor로\n",
    "it = np.nditer(arr, flags=['c_index'])\n",
    "while not it.finished:\n",
    "    idx = it.index\n",
    "    print(arr[idx], end=' ')\n",
    "    it.iternext()\n",
    "\n",
    "print(' ')\n",
    "# 2차원에서\n",
    "arr = np.array([[1,2,3],[4,5,6]])\n",
    "for tmp1 in range(arr.shape[0]):\n",
    "    for tmp2 in range(arr.shape[1]):\n",
    "        print(arr[tmp1,tmp2], end=' ')\n",
    "# for문쓰기 귀차너~\n",
    "print(' ')\n",
    "# iterator로 하자\n",
    "it = np.nditer(arr, flags=['multi_index'])\n",
    "while not it.finished:\n",
    "    idx = it.multi_index\n",
    "    print(arr[idx], end=' ')\n",
    "    it.iternext()"
   ]
  },
  {
   "cell_type": "code",
   "execution_count": 64,
   "metadata": {},
   "outputs": [
    {
     "name": "stdout",
     "output_type": "stream",
     "text": [
      "[[5 0 3]\n",
      " [3 7 9]]\n",
      "[[3 5 2]\n",
      " [4 7 6]]\n",
      "[[False False False]\n",
      " [False  True False]]\n",
      "True\n"
     ]
    }
   ],
   "source": [
    "# ndarray의 비교연산\n",
    "\n",
    "np.random.seed(0)\n",
    "arr1 = np.random.randint(0,10,(2,3))\n",
    "arr2 = np.random.randint(0,10,(2,3))\n",
    "print(arr1)\n",
    "print(arr2)\n",
    "print(arr1 == arr2)\n",
    "\n",
    "arr3 = np.arange(10)\n",
    "arr4 = np.arange(10)\n",
    "print(np.array_equal(arr3, arr4))"
   ]
  },
  {
   "cell_type": "code",
   "execution_count": 88,
   "metadata": {},
   "outputs": [
    {
     "name": "stdout",
     "output_type": "stream",
     "text": [
      "[[1 2 3]\n",
      " [4 5 6]]\n",
      "21\n",
      "21\n",
      "[ 1  3  6 10 15 21]\n",
      "3.5\n",
      "6\n",
      "1\n",
      "5\n",
      "0\n",
      "1.707825127659933\n",
      "[[  2.71828183   7.3890561   20.08553692]\n",
      " [ 54.59815003 148.4131591  403.42879349]]\n",
      "[[0.         0.30103    0.47712125]\n",
      " [0.60205999 0.69897    0.77815125]]\n",
      "15\n",
      "[5 7 9]\n",
      "[ 6 15]\n",
      "[1 1 1]\n",
      "[[[5 8 9]\n",
      "  [5 0 0]]\n",
      "\n",
      " [[1 7 6]\n",
      "  [9 2 4]]]\n",
      "[[ 6 15 15]\n",
      " [14  2  4]]\n"
     ]
    }
   ],
   "source": [
    "# 집계함수 & axis\n",
    "import numpy as np\n",
    "\n",
    "arr = np.arange(1,7,1).reshape(2,3).copy()\n",
    "print(arr)\n",
    "print(arr.sum())  # 모든 요소 합\n",
    "print(np.sum(arr))\n",
    "print(np.cumsum(arr))  # 누적합\n",
    "print(np.mean(arr))  # 평균\n",
    "print(np.max(arr))  # 최대값\n",
    "print(np.min(arr))  # 최소값\n",
    "print(np.argmax(arr))  # 최대값의 index\n",
    "print(np.argmin(arr))  # 최소값의 index\n",
    "print(np.std(arr))  # 표준편차\n",
    "print(np.exp(arr))  # 자연상수e\n",
    "print(np.log10(arr))  # log\n",
    "\n",
    "## numpy의 모든 위같은 함수들은 axis를 기준으로 계산됨\n",
    "## axis를 지정 안하면 범위가 자동으로 행렬 전체로 지정\n",
    "\n",
    "# 1차원\n",
    "arr1=np.array([1,2,3,4,5])\n",
    "print(arr1.sum(axis=0))\n",
    "\n",
    "# 2차원\n",
    "# 2차원에서 axis=0은 행방향 = 세로방향\n",
    "# 2차원에서 axis=1은 열방향 = 가로방향\n",
    "print(arr.sum(axis=0))\n",
    "print(arr.sum(axis=1))\n",
    "print(arr.argmax(axis=0))\n",
    "\n",
    "# 3차원\n",
    "np.random.seed(1)\n",
    "arr1=np.random.randint(0,10,(2,2,3))\n",
    "print(arr1)\n",
    "print(arr1.sum(axis=0))  # 3차원에서 axis=0 : depth방향"
   ]
  },
  {
   "cell_type": "code",
   "execution_count": null,
   "metadata": {},
   "outputs": [],
   "source": [
    "## numpy집계함수를 쓰는 이유\n",
    "# 시간 개이득"
   ]
  },
  {
   "cell_type": "code",
   "execution_count": 96,
   "metadata": {},
   "outputs": [
    {
     "name": "stdout",
     "output_type": "stream",
     "text": [
      "[0 1 2 3 4 5 6 7 8 9]\n",
      "[4 5 7 3 1 9 2 0 8 6]\n",
      "[0 1 2 3 4 5 6 7 8 9]\n",
      "[9 8 7 6 5 4 3 2 1 0]\n",
      "[[ 3  5  7 13]\n",
      " [11 14  4  6]\n",
      " [10  2 12  8]\n",
      " [ 9  1 16 15]]\n",
      "[[False False False  True]\n",
      " [ True  True False False]\n",
      " [False False  True False]\n",
      " [False False  True  True]]\n",
      "[[ 3  1  4  6]\n",
      " [ 9  2  7  8]\n",
      " [10  5 12 13]\n",
      " [11 14 16 15]]\n"
     ]
    }
   ],
   "source": [
    "import numpy as np\n",
    "\n",
    "arr = np.arange(10)\n",
    "print(arr)\n",
    "np.random.shuffle(arr)\n",
    "print(arr)\n",
    "print(np.sort(arr))  # 정방향 정렬\n",
    "print(np.sort(arr)[::-1])  # 역순 정렬\n",
    "\n",
    "\n",
    "arr = np.arange(1,17,1)\n",
    "np.random.shuffle(arr)\n",
    "arr = arr.reshape(4,4).copy()\n",
    "print(arr)\n",
    "\n",
    "print(arr>10)\n",
    "\n",
    "print(np.sort(arr, axis=0))  # 행방향 세로방향"
   ]
  },
  {
   "cell_type": "code",
   "execution_count": 8,
   "metadata": {},
   "outputs": [
    {
     "name": "stdout",
     "output_type": "stream",
     "text": [
      "[[1 2 3]\n",
      " [4 5 6]]\n",
      "[[1 2 3]\n",
      " [4 5 6]\n",
      " [7 8 9]]\n",
      "[[5 8 9 5]\n",
      " [0 0 1 7]\n",
      " [6 9 2 4]]\n",
      "[[5 8 9 5]\n",
      " [6 9 2 4]]\n"
     ]
    }
   ],
   "source": [
    "# python의 append()와 같은 역할을 해주는 함수\n",
    "## concatenate()\n",
    "import numpy as np\n",
    "\n",
    "arr = np.arange(1,7,1).reshape(2,3).copy()\n",
    "print(arr)\n",
    "\n",
    "new_row = np.array([7,8,9])  # arr 밑에 붙일 거\n",
    "\n",
    "result = np.concatenate((arr, new_row.reshape(1,3)), axis=0)\n",
    "print(result)\n",
    "\n",
    "## delete()\n",
    "np.random.seed(1)\n",
    "arr1=np.random.randint(0,10,(3,4))\n",
    "print(arr1)\n",
    "\n",
    "result1 = np.delete(arr1, 1, axis=0)\n",
    "print(result1)"
   ]
  },
  {
   "cell_type": "code",
   "execution_count": 11,
   "metadata": {},
   "outputs": [
    {
     "name": "stdout",
     "output_type": "stream",
     "text": [
      "연습\n",
      "[['1907-10-01' '108' '13.5' '7.9' '20.7']\n",
      " ['1907-10-02' '108' '16.2' '7.9' '22']\n",
      " ['1907-10-03' '108' '16.2' '13.1' '21.3']\n",
      " ...\n",
      " ['2020-09-05' '108' '23.3' '19.2' '27.3']\n",
      " ['2020-09-06' '108' '21.7' '19.5' '24.4']\n",
      " ['2020-09-07' '108' '19.2' '17.5' '20.6']]\n"
     ]
    }
   ],
   "source": [
    "# 연습\n",
    "import numpy as np\n",
    "print('연습')\n",
    "\n",
    "arr = np.loadtxt(\"./data/seoul.csv\", delimiter=',', skiprows=1, \n",
    "                 dtype=np.object)\n",
    "print(arr)"
   ]
  }
 ],
 "metadata": {
  "kernelspec": {
   "display_name": "Python 3",
   "language": "python",
   "name": "python3"
  },
  "language_info": {
   "codemirror_mode": {
    "name": "ipython",
    "version": 3
   },
   "file_extension": ".py",
   "mimetype": "text/x-python",
   "name": "python",
   "nbconvert_exporter": "python",
   "pygments_lexer": "ipython3",
   "version": "3.7.7"
  }
 },
 "nbformat": 4,
 "nbformat_minor": 4
}
