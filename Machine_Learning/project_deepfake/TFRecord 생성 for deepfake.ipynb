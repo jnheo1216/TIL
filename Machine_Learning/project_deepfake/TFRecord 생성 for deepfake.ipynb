{
 "cells": [
  {
   "cell_type": "code",
   "execution_count": 1,
   "metadata": {},
   "outputs": [],
   "source": [
    "import tensorflow as tf\n",
    "\n",
    "gpus = tf.config.experimental.list_physical_devices('GPU')\n",
    "if gpus:\n",
    "    # 특정 GPU에 1GB 메모리만 할당하도록 제한\n",
    "    try:\n",
    "        tf.config.experimental.set_visible_devices(gpus[1], 'GPU')\n",
    "        tf.config.experimental.set_virtual_device_configuration(\n",
    "            gpus[1],\n",
    "            [tf.config.experimental.VirtualDeviceConfiguration(memory_limit=2024)])\n",
    "    except RuntimeError as e:\n",
    "    # 프로그램 시작시에 가상 장치가 설정되어야만 합니다\n",
    "        print(e)"
   ]
  },
  {
   "cell_type": "code",
   "execution_count": 2,
   "metadata": {
    "id": "j1UN3LYJzFgd"
   },
   "outputs": [
    {
     "name": "stdout",
     "output_type": "stream",
     "text": [
      "data/deepfake\n"
     ]
    }
   ],
   "source": [
    "import os\n",
    "import os.path as pth\n",
    "import json\n",
    "import shutil\n",
    "import pandas as pd\n",
    "from tqdm import tqdm\n",
    "\n",
    "data_base_path = pth.join('data', 'deepfake')\n",
    "os.makedirs(data_base_path, exist_ok=True)\n",
    "print(data_base_path)"
   ]
  },
  {
   "cell_type": "code",
   "execution_count": 3,
   "metadata": {
    "id": "Q9-4T5OMcy1R"
   },
   "outputs": [],
   "source": [
    "import tensorflow as tf\n",
    "from tensorflow.keras.preprocessing import image\n",
    "import cv2\n",
    "\n",
    "import matplotlib.pyplot as plt\n",
    "from PIL import Image\n",
    "\n",
    "from sklearn.model_selection import train_test_split, KFold, RepeatedKFold, GroupKFold, RepeatedStratifiedKFold\n",
    "from sklearn.utils import shuffle\n",
    "\n",
    "import numpy as np\n",
    "import pandas as pd\n",
    "import os\n",
    "import os.path as pth\n",
    "import shutil\n",
    "import time\n",
    "import random\n",
    "from tqdm import tqdm\n",
    "\n",
    "import numpy as np\n",
    "from PIL import Image\n",
    "\n",
    "from IPython.display import clear_output\n",
    "\n",
    "from multiprocessing import Process, Queue\n",
    "import datetime"
   ]
  },
  {
   "cell_type": "code",
   "execution_count": 4,
   "metadata": {
    "id": "h5HgyCFrfSU5"
   },
   "outputs": [],
   "source": [
    "def _bytes_feature(value):\n",
    "    \"\"\"Returns a bytes_list from a string / byte.\"\"\"\n",
    "    if isinstance(value, type(tf.constant(0))):\n",
    "        value = value.numpy() # BytesList won't unpack a string from an EagerTensor.\n",
    "    return tf.train.Feature(bytes_list=tf.train.BytesList(value=[value]))\n",
    "\n",
    "def _float_feature(value):\n",
    "    \"\"\"Returns a float_list from a float / double.\"\"\"\n",
    "    return tf.train.Feature(float_list=tf.train.FloatList(value=[value]))\n",
    "\n",
    "def _floatarray_feature(array):\n",
    "    \"\"\"Returns a float_list from a float / double.\"\"\"\n",
    "    return tf.train.Feature(float_list=tf.train.FloatList(value=array))\n",
    "\n",
    "def _int64_feature(value):\n",
    "    \"\"\"Returns an int64_list from a bool / enum / int / uint.\"\"\"\n",
    "    return tf.train.Feature(int64_list=tf.train.Int64List(value=[value]))\n",
    "\n",
    "\n",
    "def _validate_text(text):\n",
    "    \"\"\"If text is not str or unicode, then try to convert it to str.\"\"\"\n",
    "    if isinstance(text, str):\n",
    "        return text\n",
    "    elif isinstance(text, 'unicode'):\n",
    "        return text.encode('utf8', 'ignore')\n",
    "    else:\n",
    "        return str(text)\n",
    "\n",
    "\n",
    "# def to_tfrecords(id_list, randmark_id_list, tfrecords_name):\n",
    "#     print(\"Start converting\")\n",
    "#     options = tf.io.TFRecordOptions(compression_type = 'GZIP')\n",
    "#     with tf.io.TFRecordWriter(path=pth.join(tfrecords_name+'.tfrecords'), options=options) as writer:\n",
    "#         for id_, randmark_id in tqdm(zip(id_list, randmark_id_list), total=len(id_list), position=0, leave=True):\n",
    "#             image_path = pth.join(train_data_path, id_+'.JPG')\n",
    "#             _binary_image = tf.io.read_file(image_path)\n",
    "\n",
    "#             string_set = tf.train.Example(features=tf.train.Features(feature={\n",
    "#                 'image_raw': _bytes_feature(_binary_image),\n",
    "#                 'randmark_id': _int64_feature(randmark_id),\n",
    "#                 'id': _bytes_feature(id_.encode()),\n",
    "#             }))\n",
    "\n",
    "#             writer.write(string_set.SerializeToString())    \n",
    "\n",
    "fake_label, real_label = 1, 0\n",
    "\n",
    "fake_img_data_path = '/home/lab03/data/project_deepfake/train/fake'    # 현규\n",
    "real_img_data_path = '/home/lab22/data/project_deepfake/train_new/real_samp_by_folder'    # 진녕\n",
    "fake_img_list = os.listdir(fake_img_data_path)\n",
    "real_img_list = os.listdir(real_img_data_path)\n",
    "\n",
    "validation_rate = 0.2\n",
    "fake_val_img_list = random.sample(fake_img_list, int(np.ceil(len(fake_img_list)*validation_rate)))\n",
    "real_val_img_list = random.sample(real_img_list, int(np.ceil(len(real_img_list)*validation_rate)))\n",
    "\n",
    "def to_tfrecords(fake_img_list, real_img_list, tfrecords_name):\n",
    "    print(\"Start converting\")\n",
    "    options = tf.io.TFRecordOptions(compression_type = 'GZIP')\n",
    "    with tf.io.TFRecordWriter(path=pth.join(tfrecords_name+'.tfrecords'), options=options) as writer:\n",
    "        for fake in tqdm(fake_img_list, total=len(fake_img_list), position=0, leave=True):\n",
    "            image_path = pth.join(fake_img_data_path, fake)\n",
    "            _binary_image = tf.io.read_file(image_path)\n",
    "\n",
    "            string_set = tf.train.Example(features=tf.train.Features(feature={\n",
    "                'image_raw': _bytes_feature(_binary_image),\n",
    "                '_label': _int64_feature(fake_label),\n",
    "#                 'id': _bytes_feature(id_.encode()),\n",
    "            }))\n",
    "\n",
    "            writer.write(string_set.SerializeToString())\n",
    "        for real in tqdm(real_img_list, total=len(real_img_list), position=0, leave=True):\n",
    "            image_path = pth.join(real_img_data_path, real)\n",
    "            _binary_image = tf.io.read_file(image_path)\n",
    "\n",
    "            string_set = tf.train.Example(features=tf.train.Features(feature={\n",
    "                'image_raw': _bytes_feature(_binary_image),\n",
    "                '_label': _int64_feature(real_label),\n",
    "#                 'id': _bytes_feature(id_.encode()),\n",
    "            }))\n",
    "\n",
    "            writer.write(string_set.SerializeToString())        "
   ]
  },
  {
   "cell_type": "code",
   "execution_count": 5,
   "metadata": {
    "scrolled": true
   },
   "outputs": [
    {
     "name": "stdout",
     "output_type": "stream",
     "text": [
      "171614\n",
      "66674\n"
     ]
    }
   ],
   "source": [
    "print(len(fake_img_list))\n",
    "print(len(real_img_list))"
   ]
  },
  {
   "cell_type": "code",
   "execution_count": 6,
   "metadata": {},
   "outputs": [
    {
     "name": "stderr",
     "output_type": "stream",
     "text": [
      "  0%|          | 1/171614 [00:00<5:08:49,  9.26it/s]"
     ]
    },
    {
     "name": "stdout",
     "output_type": "stream",
     "text": [
      "Start converting\n"
     ]
    },
    {
     "name": "stderr",
     "output_type": "stream",
     "text": [
      "100%|██████████| 171614/171614 [05:50<00:00, 489.36it/s]\n",
      "100%|██████████| 66674/66674 [02:29<00:00, 445.65it/s]\n",
      "  0%|          | 53/34323 [00:00<01:06, 516.46it/s]"
     ]
    },
    {
     "name": "stdout",
     "output_type": "stream",
     "text": [
      "Start converting\n"
     ]
    },
    {
     "name": "stderr",
     "output_type": "stream",
     "text": [
      "100%|██████████| 34323/34323 [01:08<00:00, 500.02it/s]\n",
      "100%|██████████| 13335/13335 [00:29<00:00, 447.84it/s]\n"
     ]
    }
   ],
   "source": [
    "# tfrecord 생성\n",
    "\n",
    "to_tfrecords(fake_img_list, real_img_list, pth.join(data_base_path, 'all_train'))\n",
    "to_tfrecords(fake_val_img_list, real_val_img_list, pth.join(data_base_path, 'all_val'))"
   ]
  },
  {
   "cell_type": "markdown",
   "metadata": {
    "id": "rAdjMVdprEtS"
   },
   "source": [
    "Testset 또한 속도를 위해 tfrecord 형태로 변환해줍니다."
   ]
  },
  {
   "cell_type": "code",
   "execution_count": 9,
   "metadata": {
    "scrolled": true
   },
   "outputs": [
    {
     "data": {
      "text/html": [
       "<div>\n",
       "<style scoped>\n",
       "    .dataframe tbody tr th:only-of-type {\n",
       "        vertical-align: middle;\n",
       "    }\n",
       "\n",
       "    .dataframe tbody tr th {\n",
       "        vertical-align: top;\n",
       "    }\n",
       "\n",
       "    .dataframe thead th {\n",
       "        text-align: right;\n",
       "    }\n",
       "</style>\n",
       "<table border=\"1\" class=\"dataframe\">\n",
       "  <thead>\n",
       "    <tr style=\"text-align: right;\">\n",
       "      <th></th>\n",
       "      <th>path</th>\n",
       "      <th>y</th>\n",
       "    </tr>\n",
       "  </thead>\n",
       "  <tbody>\n",
       "    <tr>\n",
       "      <th>0</th>\n",
       "      <td>leaderboard/image_00000.jpg</td>\n",
       "      <td>0</td>\n",
       "    </tr>\n",
       "    <tr>\n",
       "      <th>1</th>\n",
       "      <td>leaderboard/image_00001.jpg</td>\n",
       "      <td>0</td>\n",
       "    </tr>\n",
       "    <tr>\n",
       "      <th>2</th>\n",
       "      <td>leaderboard/image_00002.jpg</td>\n",
       "      <td>0</td>\n",
       "    </tr>\n",
       "    <tr>\n",
       "      <th>3</th>\n",
       "      <td>leaderboard/image_00003.jpg</td>\n",
       "      <td>0</td>\n",
       "    </tr>\n",
       "    <tr>\n",
       "      <th>4</th>\n",
       "      <td>leaderboard/image_00004.jpg</td>\n",
       "      <td>0</td>\n",
       "    </tr>\n",
       "    <tr>\n",
       "      <th>...</th>\n",
       "      <td>...</td>\n",
       "      <td>...</td>\n",
       "    </tr>\n",
       "    <tr>\n",
       "      <th>4095</th>\n",
       "      <td>leaderboard/image_04095.jpg</td>\n",
       "      <td>0</td>\n",
       "    </tr>\n",
       "    <tr>\n",
       "      <th>4096</th>\n",
       "      <td>leaderboard/image_04096.jpg</td>\n",
       "      <td>0</td>\n",
       "    </tr>\n",
       "    <tr>\n",
       "      <th>4097</th>\n",
       "      <td>leaderboard/image_04097.jpg</td>\n",
       "      <td>0</td>\n",
       "    </tr>\n",
       "    <tr>\n",
       "      <th>4098</th>\n",
       "      <td>leaderboard/image_04098.jpg</td>\n",
       "      <td>0</td>\n",
       "    </tr>\n",
       "    <tr>\n",
       "      <th>4099</th>\n",
       "      <td>leaderboard/image_04099.jpg</td>\n",
       "      <td>0</td>\n",
       "    </tr>\n",
       "  </tbody>\n",
       "</table>\n",
       "<p>4100 rows × 2 columns</p>\n",
       "</div>"
      ],
      "text/plain": [
       "                             path  y\n",
       "0     leaderboard/image_00000.jpg  0\n",
       "1     leaderboard/image_00001.jpg  0\n",
       "2     leaderboard/image_00002.jpg  0\n",
       "3     leaderboard/image_00003.jpg  0\n",
       "4     leaderboard/image_00004.jpg  0\n",
       "...                           ... ..\n",
       "4095  leaderboard/image_04095.jpg  0\n",
       "4096  leaderboard/image_04096.jpg  0\n",
       "4097  leaderboard/image_04097.jpg  0\n",
       "4098  leaderboard/image_04098.jpg  0\n",
       "4099  leaderboard/image_04099.jpg  0\n",
       "\n",
       "[4100 rows x 2 columns]"
      ]
     },
     "metadata": {},
     "output_type": "display_data"
    }
   ],
   "source": [
    "submission_csv_path = data_base_path+'/sample_submission.csv'\n",
    "submission_df = pd.read_csv(submission_csv_path)\n",
    "display(submission_df)"
   ]
  },
  {
   "cell_type": "code",
   "execution_count": 12,
   "metadata": {},
   "outputs": [],
   "source": [
    "# test tfrecord 생성\n",
    "# test_data_path = '/home/lab22/data/project_deepfake/test'\n",
    "\n",
    "test_data_path = '/home/lab22/data/project_deepfake/test/test_600x600'\n",
    "test_img_list = os.listdir(test_data_path)\n",
    "\n",
    "def to_test_tfrecords(id_list, tfrecords_name):\n",
    "    print(\"Start converting\")\n",
    "    options = tf.io.TFRecordOptions(compression_type = 'GZIP')\n",
    "    with tf.io.TFRecordWriter(path=pth.join(tfrecords_name+'.tfrecords'), options=options) as writer:\n",
    "        for path_ in tqdm(submission_df['path'], total=len(submission_df), position=0, leave=True):\n",
    "            image_path = pth.join(test_data_path, path_)\n",
    "            _binary_image = tf.io.read_file(image_path)\n",
    "\n",
    "            string_set = tf.train.Example(features=tf.train.Features(feature={\n",
    "                'image_raw': _bytes_feature(_binary_image),\n",
    "                '_path': _bytes_feature(path_.encode()),\n",
    "            }))\n",
    "\n",
    "            writer.write(string_set.SerializeToString())    "
   ]
  },
  {
   "cell_type": "code",
   "execution_count": 13,
   "metadata": {},
   "outputs": [
    {
     "name": "stderr",
     "output_type": "stream",
     "text": [
      "  1%|          | 43/4100 [00:00<00:09, 425.82it/s]"
     ]
    },
    {
     "name": "stdout",
     "output_type": "stream",
     "text": [
      "Start converting\n"
     ]
    },
    {
     "name": "stderr",
     "output_type": "stream",
     "text": [
      "100%|██████████| 4100/4100 [00:09<00:00, 411.02it/s]\n"
     ]
    }
   ],
   "source": [
    "test_ids = submission_df['path']\n",
    "to_test_tfrecords(test_ids, pth.join(data_base_path, 'test'))"
   ]
  },
  {
   "cell_type": "code",
   "execution_count": 18,
   "metadata": {
    "id": "wHY2q45PSXfH"
   },
   "outputs": [],
   "source": [
    "def to_test_tfrecords(id_list, tfrecords_name):\n",
    "    print(\"Start converting\")\n",
    "    options = tf.io.TFRecordOptions(compression_type = 'GZIP')\n",
    "    with tf.io.TFRecordWriter(path=pth.join(tfrecords_name+'.tfrecords'), options=options) as writer:\n",
    "        for id_ in tqdm(id_list, total=len(id_list), position=0, leave=True):\n",
    "            image_path = pth.join(test_data_path, id_+'.JPG')\n",
    "            _binary_image = tf.io.read_file(image_path)\n",
    "\n",
    "            string_set = tf.train.Example(features=tf.train.Features(feature={\n",
    "                'image_raw': _bytes_feature(_binary_image),\n",
    "                # 'randmark_id': _int64_feature(randmark_id),\n",
    "                'id': _bytes_feature(id_.encode()),\n",
    "            }))\n",
    "\n",
    "            writer.write(string_set.SerializeToString())    "
   ]
  },
  {
   "cell_type": "code",
   "execution_count": 19,
   "metadata": {
    "colab": {
     "base_uri": "https://localhost:8080/",
     "height": 51
    },
    "id": "yZMv6MEzSl7O",
    "outputId": "50b9abc0-d209-408f-85af-d6b394b5f826"
   },
   "outputs": [
    {
     "name": "stderr",
     "output_type": "stream",
     "text": [
      "  0%|          | 13/37964 [00:00<05:07, 123.34it/s]"
     ]
    },
    {
     "name": "stdout",
     "output_type": "stream",
     "text": [
      "Start converting\n"
     ]
    },
    {
     "name": "stderr",
     "output_type": "stream",
     "text": [
      "100%|██████████| 37964/37964 [05:57<00:00, 106.20it/s]\n"
     ]
    }
   ],
   "source": [
    "test_ids = submission_df['id']\n",
    "to_test_tfrecords(test_ids, pth.join(data_base_path, 'test'))"
   ]
  },
  {
   "cell_type": "code",
   "execution_count": null,
   "metadata": {},
   "outputs": [],
   "source": [
    "#================================================== 이하는 사용x ==========================================================="
   ]
  },
  {
   "cell_type": "code",
   "execution_count": null,
   "metadata": {},
   "outputs": [],
   "source": []
  },
  {
   "cell_type": "markdown",
   "metadata": {
    "id": "Q-mDDQD5Fyw-"
   },
   "source": [
    "### Usage"
   ]
  },
  {
   "cell_type": "code",
   "execution_count": 26,
   "metadata": {
    "id": "UATTHLMBFx6w"
   },
   "outputs": [],
   "source": [
    "train_tfrecord_path = pth.join(data_base_path, 'all_train.tfrecords')\n",
    "val_tfrecord_path = pth.join(data_base_path, 'all_val.tfrecords')\n",
    "test_tfrecord_path = pth.join(data_base_path, 'test.tfrecords')\n",
    "\n",
    "BUFFER_SIZE = 256\n",
    "BATCH_SIZE = 64\n",
    "NUM_CLASS = 1049"
   ]
  },
  {
   "cell_type": "code",
   "execution_count": 27,
   "metadata": {
    "id": "yXITcq2pF4yK"
   },
   "outputs": [],
   "source": [
    "image_feature_description = {\n",
    "    'image_raw': tf.io.FixedLenFeature([], tf.string),\n",
    "    'randmark_id': tf.io.FixedLenFeature([], tf.int64),\n",
    "    # 'id': tf.io.FixedLenFeature([], tf.string),\n",
    "}\n",
    "\n",
    "def _parse_image_function(example_proto):\n",
    "    return tf.io.parse_single_example(example_proto, image_feature_description)\n",
    "\n",
    "def map_func(target_record):\n",
    "    img = target_record['image_raw']\n",
    "    label = target_record['randmark_id']\n",
    "    img = tf.image.decode_jpeg(img, channels=3)\n",
    "    img = tf.dtypes.cast(img, tf.float32)\n",
    "    return img, label\n",
    "\n",
    "def prep_func(image, label):\n",
    "    result_image = image / 255\n",
    "    # result_image = tf.image.resize(image, (300, 300))\n",
    "    onehot_label = tf.one_hot(label, depth=NUM_CLASS)\n",
    "    return result_image, onehot_label"
   ]
  },
  {
   "cell_type": "code",
   "execution_count": 28,
   "metadata": {
    "id": "ufx-bL81GDCq"
   },
   "outputs": [],
   "source": [
    "dataset = tf.data.TFRecordDataset(train_tfrecord_path, compression_type='GZIP')\n",
    "dataset = dataset.map(_parse_image_function, num_parallel_calls=tf.data.experimental.AUTOTUNE)\n",
    "# dataset = dataset.cache()\n",
    "dataset = dataset.map(map_func, num_parallel_calls=tf.data.experimental.AUTOTUNE)\n",
    "dataset = dataset.shuffle(BUFFER_SIZE)\n",
    "dataset = dataset.batch(BATCH_SIZE)\n",
    "dataset = dataset.map(prep_func, num_parallel_calls=tf.data.experimental.AUTOTUNE)\n",
    "dataset = dataset.prefetch(buffer_size=tf.data.experimental.AUTOTUNE)"
   ]
  },
  {
   "cell_type": "code",
   "execution_count": 29,
   "metadata": {
    "id": "0PUGJoyocLw5"
   },
   "outputs": [
    {
     "ename": "NameError",
     "evalue": "name 'batch_y' is not defined",
     "output_type": "error",
     "traceback": [
      "\u001b[0;31m---------------------------------------------------------------------------\u001b[0m",
      "\u001b[0;31mNameError\u001b[0m                                 Traceback (most recent call last)",
      "\u001b[0;32m<ipython-input-29-ce9ddadf18a7>\u001b[0m in \u001b[0;36m<module>\u001b[0;34m()\u001b[0m\n\u001b[0;32m----> 1\u001b[0;31m \u001b[0mbatch_y\u001b[0m\u001b[0;34m\u001b[0m\u001b[0;34m\u001b[0m\u001b[0m\n\u001b[0m",
      "\u001b[0;31mNameError\u001b[0m: name 'batch_y' is not defined"
     ]
    }
   ],
   "source": [
    "batch_y"
   ]
  },
  {
   "cell_type": "code",
   "execution_count": 23,
   "metadata": {
    "colab": {
     "base_uri": "https://localhost:8080/",
     "height": 119
    },
    "id": "pJAmwP6k7xUK",
    "outputId": "f93f9500-2671-4c4b-ec4b-e0710dc70592",
    "scrolled": true
   },
   "outputs": [
    {
     "ename": "NameError",
     "evalue": "name 'batch_y' is not defined",
     "output_type": "error",
     "traceback": [
      "\u001b[0;31m---------------------------------------------------------------------------\u001b[0m",
      "\u001b[0;31mNameError\u001b[0m                                 Traceback (most recent call last)",
      "\u001b[0;32m<ipython-input-23-9443bdc19907>\u001b[0m in \u001b[0;36m<module>\u001b[0;34m()\u001b[0m\n\u001b[0;32m----> 1\u001b[0;31m \u001b[0mtarget_class\u001b[0m \u001b[0;34m=\u001b[0m \u001b[0mnp\u001b[0m\u001b[0;34m.\u001b[0m\u001b[0margmax\u001b[0m\u001b[0;34m(\u001b[0m\u001b[0mbatch_y\u001b[0m\u001b[0;34m.\u001b[0m\u001b[0mnumpy\u001b[0m\u001b[0;34m(\u001b[0m\u001b[0;34m)\u001b[0m\u001b[0;34m,\u001b[0m \u001b[0maxis\u001b[0m\u001b[0;34m=\u001b[0m\u001b[0;36m1\u001b[0m\u001b[0;34m)\u001b[0m\u001b[0;34m\u001b[0m\u001b[0;34m\u001b[0m\u001b[0m\n\u001b[0m\u001b[1;32m      2\u001b[0m \u001b[0mtarget_class\u001b[0m\u001b[0;34m\u001b[0m\u001b[0;34m\u001b[0m\u001b[0m\n",
      "\u001b[0;31mNameError\u001b[0m: name 'batch_y' is not defined"
     ]
    }
   ],
   "source": [
    "target_class = np.argmax(batch_y.numpy(), axis=1)\n",
    "target_class"
   ]
  },
  {
   "cell_type": "code",
   "execution_count": 30,
   "metadata": {
    "colab": {
     "base_uri": "https://localhost:8080/",
     "height": 274
    },
    "id": "IX8TcEzPGXr5",
    "outputId": "60252145-6155-4247-a5f1-03332d427142"
   },
   "outputs": [
    {
     "name": "stdout",
     "output_type": "stream",
     "text": [
      "(64, 540, 960, 3) (64, 1049)\n",
      "장위전통시장\n"
     ]
    },
    {
     "data": {
      "image/png": "[encoded data removed]",
      "text/plain": [
       "<Figure size 432x288 with 1 Axes>"
      ]
     },
     "metadata": {
      "needs_background": "light"
     },
     "output_type": "display_data"
    }
   ],
   "source": [
    "for batch_x, batch_y in dataset:\n",
    "    print(batch_x.shape, batch_y.shape)\n",
    "\n",
    "    target_class = np.argmax(batch_y[0].numpy())\n",
    "    print(category_dict[target_class])\n",
    "    plt.figure()\n",
    "    plt.imshow(batch_x[0].numpy())\n",
    "    # plt.title('{}'.format(category_dict[target_class]))\n",
    "    plt.show()\n",
    "\n",
    "    break"
   ]
  },
  {
   "cell_type": "code",
   "execution_count": 31,
   "metadata": {
    "id": "6CzFn9EgGZKt"
   },
   "outputs": [
    {
     "data": {
      "text/plain": [
       "array([  65,  805,    3,  695,  430,  992,  728,   50,  659,  845,   66,\n",
       "        899, 1028,  674, 1018,   78,  572, 1028,  564, 1036,  760,  662,\n",
       "        900,  580,  446,  732,  219,  594, 1010,  213,  540,  585,   70,\n",
       "        989,  262,  598,  686,  564,  199,  117,  581,  438,  605,   56,\n",
       "        992,  934,  981,  315,  435,  667, 1036,  949,   38,  613,  392,\n",
       "         50,  374,  339,  528,  701,  179,  567,  555,   64])"
      ]
     },
     "execution_count": 31,
     "metadata": {},
     "output_type": "execute_result"
    }
   ],
   "source": [
    "target_class = np.argmax(batch_y.numpy(), axis=1)\n",
    "target_class"
   ]
  },
  {
   "cell_type": "markdown",
   "metadata": {
    "id": "vC7LRzqLkwHY"
   },
   "source": [
    "### TFRecords vs Normal benchmark "
   ]
  },
  {
   "cell_type": "markdown",
   "metadata": {
    "id": "77BBIK8b7Zvp"
   },
   "source": [
    "동일한 조건에서 순수한 파일 I/O 속도만을 비교하기 위해서 cache, prepetch, multiprocess와 같은 속도에 영향을 줄 수 있는 요소는 제외하고 측정하였습니다."
   ]
  },
  {
   "cell_type": "markdown",
   "metadata": {
    "id": "ldS2pbRg9L0C"
   },
   "source": [
    "- TFRecords 사용 시"
   ]
  },
  {
   "cell_type": "code",
   "execution_count": 32,
   "metadata": {
    "id": "BIhPeE4BlIxO"
   },
   "outputs": [
    {
     "ename": "NameError",
     "evalue": "name 'get_file' is not defined",
     "output_type": "error",
     "traceback": [
      "\u001b[0;31m---------------------------------------------------------------------------\u001b[0m",
      "\u001b[0;31mNameError\u001b[0m                                 Traceback (most recent call last)",
      "\u001b[0;32m<ipython-input-32-45e059905b2a>\u001b[0m in \u001b[0;36m<module>\u001b[0;34m()\u001b[0m\n\u001b[0;32m----> 1\u001b[0;31m \u001b[0mget_file\u001b[0m\u001b[0;34m(\u001b[0m\u001b[0mpth\u001b[0m\u001b[0;34m.\u001b[0m\u001b[0mjoin\u001b[0m\u001b[0;34m(\u001b[0m\u001b[0mdata_base_path\u001b[0m\u001b[0;34m,\u001b[0m \u001b[0;34m'all_train.tfrecords'\u001b[0m\u001b[0;34m)\u001b[0m\u001b[0;34m)\u001b[0m\u001b[0;34m\u001b[0m\u001b[0;34m\u001b[0m\u001b[0m\n\u001b[0m\u001b[1;32m      2\u001b[0m \u001b[0mget_file\u001b[0m\u001b[0;34m(\u001b[0m\u001b[0mpth\u001b[0m\u001b[0;34m.\u001b[0m\u001b[0mjoin\u001b[0m\u001b[0;34m(\u001b[0m\u001b[0mdata_base_path\u001b[0m\u001b[0;34m,\u001b[0m \u001b[0;34m'all_val.tfrecords'\u001b[0m\u001b[0;34m)\u001b[0m\u001b[0;34m)\u001b[0m\u001b[0;34m\u001b[0m\u001b[0;34m\u001b[0m\u001b[0m\n\u001b[1;32m      3\u001b[0m \u001b[0mget_file\u001b[0m\u001b[0;34m(\u001b[0m\u001b[0mpth\u001b[0m\u001b[0;34m.\u001b[0m\u001b[0mjoin\u001b[0m\u001b[0;34m(\u001b[0m\u001b[0mdata_base_path\u001b[0m\u001b[0;34m,\u001b[0m \u001b[0;34m'test.tfrecords'\u001b[0m\u001b[0;34m)\u001b[0m\u001b[0;34m)\u001b[0m\u001b[0;34m\u001b[0m\u001b[0;34m\u001b[0m\u001b[0m\n",
      "\u001b[0;31mNameError\u001b[0m: name 'get_file' is not defined"
     ]
    }
   ],
   "source": [
    "get_file(pth.join(data_base_path, 'all_train.tfrecords'))\n",
    "get_file(pth.join(data_base_path, 'all_val.tfrecords'))\n",
    "get_file(pth.join(data_base_path, 'test.tfrecords'))"
   ]
  },
  {
   "cell_type": "code",
   "execution_count": null,
   "metadata": {
    "id": "dvpAvvm0kppd"
   },
   "outputs": [],
   "source": [
    "dataset = tf.data.TFRecordDataset(train_tfrecord_path, compression_type='GZIP')\n",
    "dataset = dataset.map(_parse_image_function)"
   ]
  },
  {
   "cell_type": "code",
   "execution_count": null,
   "metadata": {
    "colab": {
     "base_uri": "https://localhost:8080/",
     "height": 34
    },
    "id": "GIiTYTM82xgJ",
    "outputId": "83cd66c9-a0ad-47e9-a2ab-de6e7946a86a"
   },
   "outputs": [
    {
     "name": "stderr",
     "output_type": "stream",
     "text": [
      "70481it [05:43, 205.02it/s]\n"
     ]
    }
   ],
   "source": [
    "for _ in tqdm(dataset, position=0, leave=True):\n",
    "    pass"
   ]
  },
  {
   "cell_type": "markdown",
   "metadata": {
    "id": "3w9DDIkC9Qs3"
   },
   "source": [
    "- 일반적인 jpg파일 사용 시"
   ]
  },
  {
   "cell_type": "code",
   "execution_count": null,
   "metadata": {
    "id": "325yDoPvlEDz"
   },
   "outputs": [],
   "source": [
    "train_ids, val_ids, train_landmark_ids, val_landmark_ids = train_test_split(train_df['id'], train_df['landmark_id'], test_size=0.2, random_state=7777, shuffle=True)"
   ]
  },
  {
   "cell_type": "code",
   "execution_count": null,
   "metadata": {
    "id": "b7aFufmClIML"
   },
   "outputs": [],
   "source": [
    "def load_image(image_path, label):\n",
    "    img = tf.io.read_file(image_path)\n",
    "    img = tf.image.decode_jpeg(img, channels=3)\n",
    "    img = tf.dtypes.cast(img, tf.float32)\n",
    "    return img, label"
   ]
  },
  {
   "cell_type": "code",
   "execution_count": null,
   "metadata": {
    "id": "bTpkDv0C9FzT"
   },
   "outputs": [],
   "source": [
    "train_tfrecord_array = np.array([pth.join(data_base_path, 'train', img_name+'.JPG') for img_name in train_ids.values])\n",
    "\n",
    "dataset = tf.data.Dataset.from_tensor_slices((train_tfrecord_array, train_landmark_ids))\n",
    "dataset = dataset.map(load_image)"
   ]
  },
  {
   "cell_type": "code",
   "execution_count": null,
   "metadata": {
    "colab": {
     "base_uri": "https://localhost:8080/",
     "height": 34
    },
    "id": "Av5H7xVJ_TAK",
    "outputId": "ecd2ba8a-3fb1-4a23-d4f8-434b6239f36e"
   },
   "outputs": [
    {
     "name": "stderr",
     "output_type": "stream",
     "text": [
      "100%|██████████| 70481/70481 [14:40<00:00, 80.08it/s]\n"
     ]
    }
   ],
   "source": [
    "for _ in tqdm(dataset, position=0, leave=True):\n",
    "    pass"
   ]
  },
  {
   "cell_type": "markdown",
   "metadata": {
    "id": "q4BXdGQJ7_6-"
   },
   "source": [
    "- 결과를 보았을 때, 5분 43초(TFRecords) vs 14분 40초(Normal)로 TFRecord를 사용하는 것이 3배 정도 더 빨랐습니다.  \n",
    "- jpg 이미지가 속도가 더 오래 걸리는 이유는, jpg 방식으로 압축되어 있는 이미지를 raw 이미지로 해독하는데 걸리는 시간으로 인한 오버헤드로 추정됩니다.\n",
    "- 저 같은 경우 MobileNetV2 기반 모델이고, 코랩 T4 VGA 기준 학습 속도가 한 에폭에 8~9분정도 걸리는 상황이는 파일 I/O 속도가 전체 학습 속도에 미치는 영향은 상당히 큰 것으로 생각됩니다.   \n",
    "- 또한 실제 사용에서는 Multiprocessing이나 prefetch와 같은 기능도 같이 사용하기 떄문에 이를 사용해서도 테스트 해보겠습니다."
   ]
  },
  {
   "cell_type": "markdown",
   "metadata": {
    "id": "g8kkhR409V9d"
   },
   "source": [
    "- TFRecords 사용 시"
   ]
  },
  {
   "cell_type": "code",
   "execution_count": null,
   "metadata": {
    "colab": {
     "base_uri": "https://localhost:8080/",
     "height": 34
    },
    "id": "fXkbLdXX_xGc",
    "outputId": "b05f90e1-5b53-44b0-a08a-865ba3b6c0f5"
   },
   "outputs": [
    {
     "name": "stderr",
     "output_type": "stream",
     "text": [
      "70481it [05:43, 205.04it/s]\n"
     ]
    }
   ],
   "source": [
    "dataset = tf.data.TFRecordDataset(train_tfrecord_path, compression_type='GZIP')\n",
    "dataset = dataset.map(_parse_image_function, num_parallel_calls=tf.data.experimental.AUTOTUNE)\n",
    "dataset = dataset.prefetch(buffer_size=tf.data.experimental.AUTOTUNE)\n",
    "\n",
    "for _ in tqdm(dataset, position=0, leave=True):\n",
    "    pass"
   ]
  },
  {
   "cell_type": "markdown",
   "metadata": {
    "id": "Mp4jKJ3m9evi"
   },
   "source": [
    "- 일반적인 jpg로 로딩 시"
   ]
  },
  {
   "cell_type": "code",
   "execution_count": null,
   "metadata": {
    "colab": {
     "base_uri": "https://localhost:8080/",
     "height": 34
    },
    "id": "rcZsXnqk9B6y",
    "outputId": "bcd7fdaf-601e-4c16-bdd7-b0e2206f0cfd"
   },
   "outputs": [
    {
     "name": "stderr",
     "output_type": "stream",
     "text": [
      "100%|██████████| 70481/70481 [05:46<00:00, 203.17it/s]\n"
     ]
    }
   ],
   "source": [
    "dataset = tf.data.Dataset.from_tensor_slices((train_tfrecord_array, train_landmark_ids))\n",
    "dataset = dataset.map(load_image, num_parallel_calls=tf.data.experimental.AUTOTUNE)\n",
    "dataset = dataset.prefetch(buffer_size=tf.data.experimental.AUTOTUNE)\n",
    "\n",
    "for _ in tqdm(dataset, position=0, leave=True):\n",
    "    pass"
   ]
  },
  {
   "cell_type": "markdown",
   "metadata": {
    "id": "7yylnwwrBB-o"
   },
   "source": [
    "- 결과를 보았을 때, 놀랍게도 TFRecord를 사용하는 것과 일반 이미지 로딩 방식이 거의 동일한 시간을 보이는 것을 확인할 수 있습니다.  \n",
    "- 코랩에서는 앞서 언급한 이미지 압축 해제에 대한 오버헤드를 tf.data의 부가기능을 활용하여 충분히 극복할 수 있는 것으로 보입니다.\n",
    "- 또한, TRRecord는 그냥 읽는 것과 동일한 시간이 걸리는 것으로 확인되는데, 이는 TFRecord로 읽는 방식 자체가 파일 I/O 이외에 별다른 오버헤드가 크게 없어서 그런 것으로 추정됩니다."
   ]
  },
  {
   "cell_type": "code",
   "execution_count": null,
   "metadata": {
    "id": "5sVrE3_4C1nC"
   },
   "outputs": [],
   "source": []
  }
 ],
 "metadata": {
  "colab": {
   "collapsed_sections": [],
   "machine_shape": "hm",
   "name": "Copy of Make_tfrecord_data.ipynb",
   "provenance": []
  },
  "kernelspec": {
   "display_name": "Python [conda env:data_env_TF2] *",
   "language": "python",
   "name": "conda-env-data_env_TF2-py"
  },
  "language_info": {
   "codemirror_mode": {
    "name": "ipython",
    "version": 3
   },
   "file_extension": ".py",
   "mimetype": "text/x-python",
   "name": "python",
   "nbconvert_exporter": "python",
   "pygments_lexer": "ipython3",
   "version": "3.7.8"
  }
 },
 "nbformat": 4,
 "nbformat_minor": 1
}
